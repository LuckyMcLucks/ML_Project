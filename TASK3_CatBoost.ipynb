{
 "cells": [
  {
   "cell_type": "code",
   "execution_count": null,
   "id": "b4dd43a7",
   "metadata": {},
   "outputs": [
    {
     "name": "stdout",
     "output_type": "stream",
     "text": [
      "Collecting catboost\n",
      "  Downloading catboost-1.2.8-cp312-cp312-win_amd64.whl.metadata (1.5 kB)\n",
      "Collecting graphviz (from catboost)\n",
      "  Downloading graphviz-0.21-py3-none-any.whl.metadata (12 kB)\n",
      "Collecting matplotlib (from catboost)\n",
      "  Downloading matplotlib-3.10.3-cp312-cp312-win_amd64.whl.metadata (11 kB)\n",
      "Requirement already satisfied: numpy<3.0,>=1.16.0 in c:\\users\\rajns\\appdata\\local\\programs\\python\\python312\\lib\\site-packages (from catboost) (1.26.3)\n",
      "Requirement already satisfied: pandas>=0.24 in c:\\users\\rajns\\appdata\\local\\programs\\python\\python312\\lib\\site-packages (from catboost) (2.2.2)\n",
      "Requirement already satisfied: scipy in c:\\users\\rajns\\appdata\\local\\programs\\python\\python312\\lib\\site-packages (from catboost) (1.13.0)\n",
      "Collecting plotly (from catboost)\n",
      "  Downloading plotly-6.2.0-py3-none-any.whl.metadata (8.5 kB)\n",
      "Requirement already satisfied: six in c:\\users\\rajns\\appdata\\local\\programs\\python\\python312\\lib\\site-packages (from catboost) (1.16.0)\n",
      "Requirement already satisfied: python-dateutil>=2.8.2 in c:\\users\\rajns\\appdata\\local\\programs\\python\\python312\\lib\\site-packages (from pandas>=0.24->catboost) (2.8.2)\n",
      "Requirement already satisfied: pytz>=2020.1 in c:\\users\\rajns\\appdata\\local\\programs\\python\\python312\\lib\\site-packages (from pandas>=0.24->catboost) (2024.1)\n",
      "Requirement already satisfied: tzdata>=2022.7 in c:\\users\\rajns\\appdata\\local\\programs\\python\\python312\\lib\\site-packages (from pandas>=0.24->catboost) (2024.1)\n",
      "Collecting contourpy>=1.0.1 (from matplotlib->catboost)\n",
      "  Downloading contourpy-1.3.3-cp312-cp312-win_amd64.whl.metadata (5.5 kB)\n",
      "Collecting cycler>=0.10 (from matplotlib->catboost)\n",
      "  Downloading cycler-0.12.1-py3-none-any.whl.metadata (3.8 kB)\n",
      "Collecting fonttools>=4.22.0 (from matplotlib->catboost)\n",
      "  Downloading fonttools-4.59.0-cp312-cp312-win_amd64.whl.metadata (110 kB)\n",
      "Collecting kiwisolver>=1.3.1 (from matplotlib->catboost)\n",
      "  Downloading kiwisolver-1.4.8-cp312-cp312-win_amd64.whl.metadata (6.3 kB)\n",
      "Requirement already satisfied: packaging>=20.0 in c:\\users\\rajns\\appdata\\local\\programs\\python\\python312\\lib\\site-packages (from matplotlib->catboost) (23.2)\n",
      "Requirement already satisfied: pillow>=8 in c:\\users\\rajns\\appdata\\local\\programs\\python\\python312\\lib\\site-packages (from matplotlib->catboost) (10.3.0)\n",
      "Requirement already satisfied: pyparsing>=2.3.1 in c:\\users\\rajns\\appdata\\local\\programs\\python\\python312\\lib\\site-packages (from matplotlib->catboost) (3.1.1)\n",
      "Collecting narwhals>=1.15.1 (from plotly->catboost)\n",
      "  Downloading narwhals-2.0.1-py3-none-any.whl.metadata (11 kB)\n",
      "Downloading catboost-1.2.8-cp312-cp312-win_amd64.whl (102.4 MB)\n",
      "   ---------------------------------------- 0.0/102.4 MB ? eta -:--:--\n",
      "   - -------------------------------------- 4.7/102.4 MB 23.7 MB/s eta 0:00:05\n",
      "   --- ------------------------------------ 9.7/102.4 MB 23.2 MB/s eta 0:00:04\n",
      "   ----- ---------------------------------- 14.9/102.4 MB 24.1 MB/s eta 0:00:04\n",
      "   ------- -------------------------------- 20.2/102.4 MB 24.1 MB/s eta 0:00:04\n",
      "   --------- ------------------------------ 24.1/102.4 MB 24.2 MB/s eta 0:00:04\n",
      "   --------- ------------------------------ 24.1/102.4 MB 24.2 MB/s eta 0:00:04\n",
      "   ----------- ---------------------------- 29.4/102.4 MB 19.6 MB/s eta 0:00:04\n",
      "   ------------- -------------------------- 33.8/102.4 MB 19.9 MB/s eta 0:00:04\n",
      "   --------------- ------------------------ 38.8/102.4 MB 20.4 MB/s eta 0:00:04\n",
      "   ----------------- ---------------------- 43.8/102.4 MB 20.6 MB/s eta 0:00:03\n",
      "   ------------------ --------------------- 48.0/102.4 MB 20.6 MB/s eta 0:00:03\n",
      "   -------------------- ------------------- 51.6/102.4 MB 20.3 MB/s eta 0:00:03\n",
      "   --------------------- ------------------ 55.3/102.4 MB 20.1 MB/s eta 0:00:03\n",
      "   ----------------------- ---------------- 59.2/102.4 MB 20.0 MB/s eta 0:00:03\n",
      "   ------------------------ --------------- 62.9/102.4 MB 19.9 MB/s eta 0:00:02\n",
      "   -------------------------- ------------- 67.4/102.4 MB 19.9 MB/s eta 0:00:02\n",
      "   --------------------------- ------------ 71.6/102.4 MB 19.9 MB/s eta 0:00:02\n",
      "   ----------------------------- ---------- 75.8/102.4 MB 19.9 MB/s eta 0:00:02\n",
      "   ------------------------------- -------- 80.0/102.4 MB 19.9 MB/s eta 0:00:02\n",
      "   -------------------------------- ------- 84.1/102.4 MB 19.9 MB/s eta 0:00:01\n",
      "   ---------------------------------- ----- 88.1/102.4 MB 19.8 MB/s eta 0:00:01\n",
      "   ----------------------------------- ---- 92.0/102.4 MB 19.8 MB/s eta 0:00:01\n",
      "   ------------------------------------- -- 95.9/102.4 MB 19.8 MB/s eta 0:00:01\n",
      "   -------------------------------------- - 98.6/102.4 MB 19.4 MB/s eta 0:00:01\n",
      "   --------------------------------------  102.2/102.4 MB 19.4 MB/s eta 0:00:01\n",
      "   --------------------------------------  102.2/102.4 MB 19.4 MB/s eta 0:00:01\n",
      "   --------------------------------------- 102.4/102.4 MB 18.5 MB/s eta 0:00:00\n",
      "Downloading graphviz-0.21-py3-none-any.whl (47 kB)\n",
      "Downloading matplotlib-3.10.3-cp312-cp312-win_amd64.whl (8.1 MB)\n",
      "   ---------------------------------------- 0.0/8.1 MB ? eta -:--:--\n",
      "   ------------------------- -------------- 5.2/8.1 MB 24.5 MB/s eta 0:00:01\n",
      "   ---------------------------------------- 8.1/8.1 MB 21.7 MB/s eta 0:00:00\n",
      "Downloading plotly-6.2.0-py3-none-any.whl (9.6 MB)\n",
      "   ---------------------------------------- 0.0/9.6 MB ? eta -:--:--\n",
      "   ------------------ --------------------- 4.5/9.6 MB 20.7 MB/s eta 0:00:01\n",
      "   ---------------------------------- ----- 8.4/9.6 MB 19.3 MB/s eta 0:00:01\n",
      "   ---------------------------------------- 9.6/9.6 MB 18.7 MB/s eta 0:00:00\n",
      "Downloading contourpy-1.3.3-cp312-cp312-win_amd64.whl (226 kB)\n",
      "Downloading cycler-0.12.1-py3-none-any.whl (8.3 kB)\n",
      "Downloading fonttools-4.59.0-cp312-cp312-win_amd64.whl (2.2 MB)\n",
      "   ---------------------------------------- 0.0/2.2 MB ? eta -:--:--\n",
      "   ---------------------------------------- 2.2/2.2 MB 15.9 MB/s eta 0:00:00\n",
      "Downloading kiwisolver-1.4.8-cp312-cp312-win_amd64.whl (71 kB)\n",
      "Downloading narwhals-2.0.1-py3-none-any.whl (385 kB)\n",
      "Installing collected packages: narwhals, kiwisolver, graphviz, fonttools, cycler, contourpy, plotly, matplotlib, catboost\n",
      "Successfully installed catboost-1.2.8 contourpy-1.3.3 cycler-0.12.1 fonttools-4.59.0 graphviz-0.21 kiwisolver-1.4.8 matplotlib-3.10.3 narwhals-2.0.1 plotly-6.2.0\n",
      "Note: you may need to restart the kernel to use updated packages.\n"
     ]
    },
    {
     "name": "stderr",
     "output_type": "stream",
     "text": [
      "\n",
      "[notice] A new release of pip is available: 24.2 -> 25.1.1\n",
      "[notice] To update, run: python.exe -m pip install --upgrade pip\n"
     ]
    }
   ],
   "source": [
    "# Install CatBoost (Run this only once)\n",
    "# pip install catboost"
   ]
  },
  {
   "cell_type": "code",
   "execution_count": 2,
   "id": "9f60ac96",
   "metadata": {},
   "outputs": [],
   "source": [
    "# Import necessary libraries\n",
    "import pandas as pd\n",
    "from catboost import CatBoostClassifier\n",
    "\n",
    "df = pd.read_csv('data/train_tfidf_features.csv') #Load the training dataset"
   ]
  },
  {
   "cell_type": "code",
   "execution_count": 3,
   "id": "54d35614",
   "metadata": {},
   "outputs": [],
   "source": [
    "# Split training dataset into training and validation sets, 80:20 split\n",
    "train_df = df.iloc[:int(len(df)*0.8), :]\n",
    "test_df = df.iloc[int(len(df)*0.8):, :]\n",
    "\n",
    "X_train, y_train = train_df.drop(columns=[\"id\", \"label\"]), train_df[\"label\"] # Features and labels for training (drop 'id' from features)\n",
    "X_test, y_test = test_df.drop(columns=[\"id\", \"label\"]), test_df[\"label\"] # Features and labels for validation (drop 'id' from features)"
   ]
  },
  {
   "cell_type": "code",
   "execution_count": 4,
   "id": "421a4b76",
   "metadata": {},
   "outputs": [],
   "source": [
    "# Creeate a class object for CatBoost Classifier (to make it reusable and modular)\n",
    "class CatBoostModel:\n",
    "    def __init__(self, learning_rate=0.1, iterations=100, depth=6, random_seed=42, class_weights=None, verbose=0):\n",
    "        self.learning_rate = learning_rate # Step size shrinkage used in boostin (lower val = slower training but better performance)\n",
    "        self.iterations = iterations # Number of boosting iterations (trees)\n",
    "        self.depth = depth # Depth of the trees (higher val = more complex model)\n",
    "        self.random_seed = random_seed # Random seed for reproducibility\n",
    "        self.class_weights = class_weights # Class weights for handling class imbalance (penalizes misclassification of minority class)\n",
    "        self.verbose = verbose # Verbosity level (0 = silent, higher = more output)\n",
    "        self.model = None\n",
    "\n",
    "    def train(self, X_train, y_train): # Train the CatBoost model with the provided parameters\n",
    "        self.model = CatBoostClassifier(\n",
    "            learning_rate=self.learning_rate,\n",
    "            iterations=self.iterations,\n",
    "            depth=self.depth,\n",
    "            random_seed=self.random_seed,\n",
    "            class_weights=self.class_weights,\n",
    "            verbose=self.verbose\n",
    "        )\n",
    "        self.model.fit(X_train, y_train) # Fit the model to the training data and learn the patterns\n",
    "        return self.model\n",
    "\n",
    "    def predict(self, X_test): # Predict class label using the trained model for new data \n",
    "        return self.model.predict(X_test)\n",
    "\n",
    "    def predict_probability(self, X_test): # Predict class probabilities (can be useful for stacking ensembles or threshold tuning)\n",
    "        return self.model.predict_probability(X_test)\n",
    "    \n",
    "catboost_model = CatBoostModel(\n",
    "    learning_rate=0.1,\n",
    "    iterations=300,\n",
    "    depth=6,\n",
    "    class_weights={0: 0.81, 1: 1.31},  # match logistic regression weights\n",
    "    verbose=0\n",
    ")\n",
    "\n",
    "catboost_model.train(X_train, y_train)\n",
    "y_pred = catboost_model.predict(X_test)\n"
   ]
  },
  {
   "cell_type": "code",
   "execution_count": 5,
   "id": "bb2a8050",
   "metadata": {},
   "outputs": [
    {
     "name": "stdout",
     "output_type": "stream",
     "text": [
      "              precision    recall  f1-score   support\n",
      "\n",
      "           0       0.78      0.75      0.76      2126\n",
      "           1       0.62      0.66      0.64      1311\n",
      "\n",
      "    accuracy                           0.72      3437\n",
      "   macro avg       0.70      0.71      0.70      3437\n",
      "weighted avg       0.72      0.72      0.72      3437\n",
      "\n"
     ]
    }
   ],
   "source": [
    "# Evaluate the model and display classification report metrics\n",
    "from sklearn import metrics\n",
    "\n",
    "print(metrics.classification_report(y_test, y_pred))"
   ]
  }
 ],
 "metadata": {
  "kernelspec": {
   "display_name": "Python 3",
   "language": "python",
   "name": "python3"
  },
  "language_info": {
   "codemirror_mode": {
    "name": "ipython",
    "version": 3
   },
   "file_extension": ".py",
   "mimetype": "text/x-python",
   "name": "python",
   "nbconvert_exporter": "python",
   "pygments_lexer": "ipython3",
   "version": "3.12.0"
  }
 },
 "nbformat": 4,
 "nbformat_minor": 5
}
