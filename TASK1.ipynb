{
 "cells": [
  {
   "cell_type": "code",
   "execution_count": 2,
   "id": "0f0dc4f7",
   "metadata": {},
   "outputs": [],
   "source": [
    "import numpy as np\n",
    "import pandas as pd\n",
    "\n",
    "df = pd.read_csv('data/train_tfidf_features.csv')\n",
    "\n"
   ]
  },
  {
   "cell_type": "code",
   "execution_count": 3,
   "id": "e87618d3",
   "metadata": {},
   "outputs": [
    {
     "name": "stdout",
     "output_type": "stream",
     "text": [
      "label\n",
      "0    8507\n",
      "1    5240\n",
      "Name: count, dtype: int64\n"
     ]
    }
   ],
   "source": [
    "\n",
    "#split training df to train set and test set , 8:2 split\n",
    "\n",
    "train_df = df.iloc[:int(len(df)*0.8), :]\n",
    "test_df = df.iloc[int(len(df)*0.8):, :]\n",
    "\n",
    "X_train, y_train = train_df.drop(columns=[\"id\",\"label\"]),train_df[\"label\"]\n",
    "X_test, y_test = test_df.drop(columns=[\"id\",\"label\"]),test_df[\"label\"]\n",
    "\n",
    "\n",
    "counts = train_df[\"label\"].value_counts()\n",
    "print(counts)\n",
    "\n"
   ]
  },
  {
   "cell_type": "code",
   "execution_count": null,
   "id": "44832866",
   "metadata": {},
   "outputs": [
    {
     "name": "stderr",
     "output_type": "stream",
     "text": [
      "C:\\Users\\Wei Yang\\AppData\\Local\\Temp\\ipykernel_27068\\3392417389.py:64: FutureWarning: Series.ravel is deprecated. The underlying array is already 1D, so ravel is not necessary.  Use `to_numpy()` for conversion to a numpy array instead.\n",
      "  sample_weights = np.vectorize(self.class_weights.get)(y.ravel()).reshape(-1, 1)\n"
     ]
    }
   ],
   "source": [
    "\n",
    "# Create a class obj of Logistic Regression for used in Task 3\n",
    "\n",
    "class LogisticRegression:\n",
    "    def __init__(self,seed=0,learning_rate = 0.01,batch_size = 100, epochs = 20,random_state = 0):\n",
    "        # X --> training data feaatures.\n",
    "        # y --> training data lable.   \n",
    "        # bs --> Batch Size.\n",
    "        # epochs --> Number of iterations.\n",
    "        # lr --> Learning rate. \n",
    "        # size-> number of training examples\n",
    "        # features-> number of features \n",
    "        self.size,self.features = 0,0\n",
    "        self.y_hat = 0.0\n",
    "        self.bs  = batch_size\n",
    "        self.lr = learning_rate\n",
    "        self.epochs =epochs\n",
    "        self.class_weights = None \n",
    "        self.random = random_state\n",
    "        \n",
    "        self.loss = 0\n",
    "\n",
    "    def sigmoid(self,z):\n",
    "        return 1.0/(1 + np.exp(-z))\n",
    "    \n",
    "    def loss_log(self,y,y_hat,sample_weights):\n",
    "        #included class weights\n",
    "        if self.class_weights is  None:\n",
    "            \n",
    "            sample_weights = np.ones_like(y)\n",
    "        else:\n",
    "            sample_weights = np.vectorize(self.class_weights.get)(y.ravel()).reshape(-1, 1)\n",
    "        base_LOSS =  -np.mean(sample_weights *  (y * np.log(y_hat) + (1 - y) * np.log(1 - y_hat)))\n",
    "        l1_penalty = self.Lambda * np.sum(np.abs(self.weights)) \n",
    "        return base_LOSS + l1_penalty\n",
    "    \n",
    "    def gradients(self,X, y, y_hat,sample_weights):\n",
    "        #included class weights\n",
    "        m = X.shape[0]\n",
    "        if self.class_weights is  None:\n",
    "            \n",
    "            sample_weights = np.ones_like(y)\n",
    "        else:\n",
    "            sample_weights = np.vectorize(self.class_weights.get)(y.ravel()).reshape(-1, 1)\n",
    "        dw = 1/m * np.dot(X.T, sample_weights*(y_hat - y))+ self.Lambda * np.sign(self.weights) # dw + L1 regularization \n",
    "        db = np.mean(sample_weights*(y_hat - y))\n",
    "\n",
    "        return dw, db   \n",
    "    \n",
    "    def train(self,X,y,Lambda=1,class_weights=None,):\n",
    "        data = pd.concat([X, y], axis=1).sample(frac=1, random_state=self.random).reset_index(drop=True)\n",
    "        X = data.iloc[:, :-1]\n",
    "        y = data.iloc[:, -1]\n",
    "        #Hyperparameter: \n",
    "        #Lambda --> L1 regularization \n",
    "        #class_weights --> sample weights\n",
    "        \n",
    "        self.Lambda = Lambda\n",
    "        self.class_weights = class_weights\n",
    "        #Added class weights to offset data class bias\n",
    "        if self.class_weights is  None:\n",
    "            \n",
    "            sample_weights = np.ones_like(y)\n",
    "        else:\n",
    "            sample_weights = np.vectorize(self.class_weights.get)(y.ravel()).reshape(-1, 1)\n",
    "            \n",
    "        self.size,features =X.shape\n",
    "        #Randomize initials bias and weights\n",
    "        self.weights = np.zeros((features, 1))\n",
    "        self.bias  =0\n",
    "        # Reshaping y.\n",
    "       \n",
    "        y = y.values.reshape(self.size, 1)\n",
    "        # Training loop.\n",
    "        for epoch in range(self.epochs):\n",
    "            for i in range((self.size-1)//self.bs + 1):\n",
    "                # Defining batches. SGD.\n",
    "                start_i = i*self.bs\n",
    "                end_i = start_i + self.bs\n",
    "                xb = X[start_i:end_i]\n",
    "                yb = y[start_i:end_i]\n",
    "                batch_weights = sample_weights[start_i:end_i]  \n",
    "                # Calculating hypothesis/prediction.\n",
    "                self.y_hat = self.sigmoid(np.dot(xb, self.weights) + self.bias)\n",
    "                #print(\"Probs:\", self.y_hat[:20])\n",
    "            \n",
    "                dw, db = self.gradients(xb, yb, self.y_hat, batch_weights)\n",
    "\n",
    "                # Updating the parameters.\n",
    "                self.weights -= self.lr*dw\n",
    "                self.bias -= self.lr*db\n",
    "\n",
    "            # Calculating/update loss log\n",
    "            self.loss =self.loss_log(y, self.sigmoid(np.dot(X, self.weights) + self.bias), sample_weights)\n",
    "\n",
    "           \n",
    "\n",
    "        # returning weights, bias and losses(List).\n",
    "\n",
    "        return self.weights, self.bias, self.loss\n",
    "    \n",
    "    def predict_proba(self,X):\n",
    "        #input X must be iterable \n",
    "        z = np.dot(X, self.weights) + self.bias\n",
    "        return self.sigmoid(z)\n",
    "    \n",
    "    def predict(self, X, threshold=0.5):\n",
    "        probs = self.predict_proba(X)\n",
    "        ans = (probs >= threshold).astype(int)\n",
    "        return ans\n",
    "    \n",
    "\n",
    "lg = LogisticRegression(batch_size=1000, learning_rate=0.1, epochs=80)\n",
    "\n",
    "lg.train(X_train,y_train,class_weights={1:2.6,0:1.6})\n",
    "\n"
   ]
  },
  {
   "cell_type": "code",
   "execution_count": 88,
   "id": "521cc0e9",
   "metadata": {},
   "outputs": [
    {
     "name": "stdout",
     "output_type": "stream",
     "text": [
      "              precision    recall  f1-score   support\n",
      "\n",
      "           0       0.62      1.00      0.76      2126\n",
      "           1       0.11      0.00      0.00      1311\n",
      "\n",
      "    accuracy                           0.62      3437\n",
      "   macro avg       0.36      0.50      0.38      3437\n",
      "weighted avg       0.42      0.62      0.47      3437\n",
      "\n"
     ]
    }
   ],
   "source": [
    "from sklearn import metrics \n",
    "\n",
    "# Convert probabilities to class labels using the threshold\n",
    "\n",
    "print(metrics.classification_report(y_test, lg.predict(X_test)))\n",
    "\n"
   ]
  },
  {
   "attachments": {
    "image.png": {
     "image/png": "[encoded data removed]"
    }
   },
   "cell_type": "markdown",
   "id": "39d28ec3",
   "metadata": {},
   "source": [
    "![image.PNG](attachment:image.png)"
   ]
  },
  {
   "cell_type": "code",
   "execution_count": null,
   "id": "90441cdc",
   "metadata": {},
   "outputs": [],
   "source": []
  },
  {
   "cell_type": "markdown",
   "id": "3b7d7662",
   "metadata": {},
   "source": [
    "## threshold testing\n"
   ]
  },
  {
   "cell_type": "code",
   "execution_count": 86,
   "id": "525489cf",
   "metadata": {},
   "outputs": [
    {
     "name": "stdout",
     "output_type": "stream",
     "text": [
      "              precision    recall  f1-score   support\n",
      "\n",
      "           0       0.59      0.85      0.70      2126\n",
      "           1       0.15      0.04      0.07      1311\n",
      "\n",
      "    accuracy                           0.54      3437\n",
      "   macro avg       0.37      0.45      0.38      3437\n",
      "weighted avg       0.42      0.54      0.46      3437\n",
      "\n"
     ]
    }
   ],
   "source": [
    "probs = lg.predict_proba(X_test)\n",
    "\n",
    "\n",
    "threshold = 0.5\n",
    "\n",
    "# Convert probabilities to class labels using the threshold\n",
    "ans = (probs >= threshold).astype(int)\n",
    "\n",
    "print(metrics.classification_report(y_test, ans))\n"
   ]
  },
  {
   "cell_type": "markdown",
   "id": "39b6e3a3",
   "metadata": {},
   "source": [
    "## Write to CSV"
   ]
  },
  {
   "cell_type": "code",
   "execution_count": 81,
   "id": "5005fc25",
   "metadata": {},
   "outputs": [
    {
     "name": "stdout",
     "output_type": "stream",
     "text": [
      "(4296, 1)\n"
     ]
    }
   ],
   "source": [
    "test_df = pd.read_csv('data/test_tfidf_features.csv')\n",
    "test_data,id = test_df.drop(columns=[\"id\"]),test_df[\"id\"]\n",
    "probs = lg.predict(test_data)\n",
    "ans = (probs >= 0.4).astype(int)\n",
    "\n",
    "\n",
    "final=id.to_frame()    \n",
    "print(final.shape)\n",
    "final[\"label\"] = ans\n",
    "final = final.rename(columns={\"id\":\"row ID\"})\n",
    "final.to_csv('Task1Output.csv',index=False )"
   ]
  }
 ],
 "metadata": {
  "kernelspec": {
   "display_name": "Python 3",
   "language": "python",
   "name": "python3"
  },
  "language_info": {
   "codemirror_mode": {
    "name": "ipython",
    "version": 3
   },
   "file_extension": ".py",
   "mimetype": "text/x-python",
   "name": "python",
   "nbconvert_exporter": "python",
   "pygments_lexer": "ipython3",
   "version": "3.10.6"
  }
 },
 "nbformat": 4,
 "nbformat_minor": 5
}
