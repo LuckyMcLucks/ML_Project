{
 "cells": [
  {
   "cell_type": "code",
   "execution_count": 2,
   "id": "0f0dc4f7",
   "metadata": {},
   "outputs": [],
   "source": [
    "import numpy as np\n",
    "import pandas as pd\n",
    "\n",
    "df = pd.read_csv('data/train_tfidf_features.csv')\n",
    "\n"
   ]
  },
  {
   "cell_type": "code",
   "execution_count": 3,
   "id": "e87618d3",
   "metadata": {},
   "outputs": [
    {
     "name": "stdout",
     "output_type": "stream",
     "text": [
      "label\n",
      "0    8507\n",
      "1    5240\n",
      "Name: count, dtype: int64\n"
     ]
    }
   ],
   "source": [
    "\n",
    "#split training df to train set and test set , 8:2 split\n",
    "\n",
    "train_df = df.iloc[:int(len(df)*0.8), :]\n",
    "test_df = df.iloc[int(len(df)*0.8):, :]\n",
    "\n",
    "X_train, y_train = train_df.drop(columns=[\"id\",\"label\"]),train_df[\"label\"]\n",
    "X_test, y_test = test_df.drop(columns=[\"id\",\"label\"]),test_df[\"label\"]\n",
    "\n",
    "\n",
    "counts = train_df[\"label\"].value_counts()\n",
    "print(counts)\n",
    "\n"
   ]
  },
  {
   "cell_type": "code",
   "execution_count": 6,
   "id": "44832866",
   "metadata": {},
   "outputs": [
    {
     "ename": "ValueError",
     "evalue": "operands could not be broadcast together with shapes (100,) (100,5000) ",
     "output_type": "error",
     "traceback": [
      "\u001b[1;31m---------------------------------------------------------------------------\u001b[0m",
      "\u001b[1;31mValueError\u001b[0m                                Traceback (most recent call last)",
      "Input \u001b[1;32mIn [6]\u001b[0m, in \u001b[0;36m<module>\u001b[1;34m\u001b[0m\n\u001b[0;32m     93\u001b[0m         \u001b[38;5;28;01mreturn\u001b[39;00m np\u001b[38;5;241m.\u001b[39mround(y_hat)\n\u001b[0;32m     96\u001b[0m lg \u001b[38;5;241m=\u001b[39m LogisticRegression(batch_size\u001b[38;5;241m=\u001b[39m\u001b[38;5;241m100\u001b[39m, learning_rate\u001b[38;5;241m=\u001b[39m\u001b[38;5;241m0.9\u001b[39m, epochs\u001b[38;5;241m=\u001b[39m\u001b[38;5;241m30\u001b[39m)\n\u001b[1;32m---> 98\u001b[0m \u001b[43mlg\u001b[49m\u001b[38;5;241;43m.\u001b[39;49m\u001b[43mtrain\u001b[49m\u001b[43m(\u001b[49m\u001b[43mX_train\u001b[49m\u001b[43m,\u001b[49m\u001b[43my_train\u001b[49m\u001b[43m)\u001b[49m\n\u001b[0;32m     99\u001b[0m lg\u001b[38;5;241m.\u001b[39mpredict(X_test)\n",
      "Input \u001b[1;32mIn [6]\u001b[0m, in \u001b[0;36mLogisticRegression.train\u001b[1;34m(self, X, y, Lambda, class_weights)\u001b[0m\n\u001b[0;32m     71\u001b[0m \u001b[38;5;28mself\u001b[39m\u001b[38;5;241m.\u001b[39my_hat \u001b[38;5;241m=\u001b[39m \u001b[38;5;28mself\u001b[39m\u001b[38;5;241m.\u001b[39msigmoid(np\u001b[38;5;241m.\u001b[39mdot(xb, \u001b[38;5;28mself\u001b[39m\u001b[38;5;241m.\u001b[39mweights) \u001b[38;5;241m+\u001b[39m \u001b[38;5;28mself\u001b[39m\u001b[38;5;241m.\u001b[39mbias)\n\u001b[0;32m     72\u001b[0m \u001b[38;5;66;03m#print(\"Probs:\", self.y_hat[:20])\u001b[39;00m\n\u001b[0;32m     73\u001b[0m \u001b[38;5;66;03m# Getting the gradients of loss w.r.t parameters.\u001b[39;00m\n\u001b[1;32m---> 74\u001b[0m dw, db \u001b[38;5;241m=\u001b[39m \u001b[38;5;28;43mself\u001b[39;49m\u001b[38;5;241;43m.\u001b[39;49m\u001b[43mgradients\u001b[49m\u001b[43m(\u001b[49m\u001b[43mxb\u001b[49m\u001b[43m,\u001b[49m\u001b[43m \u001b[49m\u001b[43myb\u001b[49m\u001b[43m,\u001b[49m\u001b[43m \u001b[49m\u001b[38;5;28;43mself\u001b[39;49m\u001b[38;5;241;43m.\u001b[39;49m\u001b[43my_hat\u001b[49m\u001b[43m,\u001b[49m\u001b[43m \u001b[49m\u001b[43mbatch_weights\u001b[49m\u001b[43m)\u001b[49m\n\u001b[0;32m     76\u001b[0m \u001b[38;5;66;03m# Updating the parameters.\u001b[39;00m\n\u001b[0;32m     77\u001b[0m \u001b[38;5;28mself\u001b[39m\u001b[38;5;241m.\u001b[39mweights \u001b[38;5;241m-\u001b[39m\u001b[38;5;241m=\u001b[39m \u001b[38;5;28mself\u001b[39m\u001b[38;5;241m.\u001b[39mlr\u001b[38;5;241m*\u001b[39mdw\n",
      "Input \u001b[1;32mIn [6]\u001b[0m, in \u001b[0;36mLogisticRegression.gradients\u001b[1;34m(self, X, y, y_hat, sample_weights)\u001b[0m\n\u001b[0;32m     31\u001b[0m \u001b[38;5;28;01mdef\u001b[39;00m\u001b[38;5;250m \u001b[39m\u001b[38;5;21mgradients\u001b[39m(\u001b[38;5;28mself\u001b[39m,X, y, y_hat,sample_weights):\n\u001b[0;32m     32\u001b[0m     \u001b[38;5;66;03m#included class weights\u001b[39;00m\n\u001b[0;32m     33\u001b[0m     m \u001b[38;5;241m=\u001b[39m X\u001b[38;5;241m.\u001b[39mshape[\u001b[38;5;241m0\u001b[39m]\n\u001b[1;32m---> 34\u001b[0m     dw \u001b[38;5;241m=\u001b[39m \u001b[38;5;241m1\u001b[39m\u001b[38;5;241m/\u001b[39mm \u001b[38;5;241m*\u001b[39m np\u001b[38;5;241m.\u001b[39mdot(X\u001b[38;5;241m.\u001b[39mT, \u001b[43msample_weights\u001b[49m\u001b[38;5;241;43m*\u001b[39;49m\u001b[43m(\u001b[49m\u001b[43my_hat\u001b[49m\u001b[43m \u001b[49m\u001b[38;5;241;43m-\u001b[39;49m\u001b[43m \u001b[49m\u001b[43my\u001b[49m\u001b[43m)\u001b[49m)\u001b[38;5;241m+\u001b[39m \u001b[38;5;28mself\u001b[39m\u001b[38;5;241m.\u001b[39mLambda \u001b[38;5;241m*\u001b[39m np\u001b[38;5;241m.\u001b[39msign(\u001b[38;5;28mself\u001b[39m\u001b[38;5;241m.\u001b[39mweights) \u001b[38;5;66;03m# dw + L1 regularization \u001b[39;00m\n\u001b[0;32m     35\u001b[0m     db \u001b[38;5;241m=\u001b[39m np\u001b[38;5;241m.\u001b[39mmean(sample_weights\u001b[38;5;241m*\u001b[39m(y_hat \u001b[38;5;241m-\u001b[39m y))\n\u001b[0;32m     37\u001b[0m     \u001b[38;5;28;01mreturn\u001b[39;00m dw, db\n",
      "\u001b[1;31mValueError\u001b[0m: operands could not be broadcast together with shapes (100,) (100,5000) "
     ]
    }
   ],
   "source": [
    "\n",
    "# Create a class obj of Logistic Regression for used in Task 3\n",
    "\n",
    "class LogisticRegression:\n",
    "    def __init__(self,seed=0,learning_rate = 0.01,batch_size = 100, epochs = 20,random_state = 0):\n",
    "        # X --> training data feaatures.\n",
    "        # y --> training data lable.   \n",
    "        # bs --> Batch Size.\n",
    "        # epochs --> Number of iterations.\n",
    "        # lr --> Learning rate. \n",
    "        # size-> number of training examples\n",
    "        # features-> number of features \n",
    "        self.size,self.features = 0,0\n",
    "        self.y_hat = 0.0\n",
    "        self.bs  = batch_size\n",
    "        self.lr = learning_rate\n",
    "        self.epochs =epochs\n",
    "        self.class_weights = None \n",
    "        self.random = random_state\n",
    "        \n",
    "        self.loss = 0\n",
    "\n",
    "    def sigmoid(self,z):\n",
    "        return 1.0/(1 + np.exp(-z))\n",
    "    \n",
    "    def loss_log(self,y,y_hat,sample_weights):\n",
    "        #included class weights\n",
    "        base_LOSS =  -np.mean(sample_weights *  (y * np.log(y_hat) + (1 - y) * np.log(1 - y_hat)))\n",
    "        l1_penalty = self.Lambda * np.sum(np.abs(self.weights)) \n",
    "        return base_LOSS + l1_penalty\n",
    "    \n",
    "    def gradients(self,X, y, y_hat,sample_weights):\n",
    "        #included class weights\n",
    "        m = X.shape[0]\n",
    "        dw = 1/m * np.dot(X.T, sample_weights*(y_hat - y))+ self.Lambda * np.sign(self.weights) # dw + L1 regularization \n",
    "        db = np.mean(sample_weights*(y_hat - y))\n",
    "\n",
    "        return dw, db   \n",
    "    \n",
    "    def train(self,X,y,Lambda=1,class_weights=None,):\n",
    "        X = X.sample(frac=1, random_state=self.random).reset_index(drop=True)\n",
    "        y = y.sample(frac=1, random_state=self.random).reset_index(drop=True)\n",
    "        #Hyperparameter: \n",
    "        #Lambda --> L2 regularization \n",
    "        #class_weights --> sample weights\n",
    "        \n",
    "        self.Lambda = Lambda\n",
    "        self.class_weights = class_weights\n",
    "        #Added class weights to offset data class bias\n",
    "        if self.class_weights is not None:\n",
    "            sample_weights = np.vectorize(self.class_weights.get)(y.ravel()).reshape(-1, 1)\n",
    "\n",
    "        else:\n",
    "            sample_weights = np.ones_like(y)\n",
    "        self.size,features =X.shape\n",
    "        #Randomize initials bias and weights\n",
    "        self.weights =0\n",
    "        self.bias  =0\n",
    "        # Reshaping y.\n",
    "       \n",
    "        y = y.values.reshape(self.size, 1)\n",
    "        # Training loop.\n",
    "        for epoch in range(self.epochs):\n",
    "            for i in range((self.size-1)//self.bs + 1):\n",
    "                # Defining batches. SGD.\n",
    "                start_i = i*self.bs\n",
    "                end_i = start_i + self.bs\n",
    "                xb = X[start_i:end_i]\n",
    "                yb = y[start_i:end_i]\n",
    "                batch_weights = sample_weights[start_i:end_i]  \n",
    "                # Calculating hypothesis/prediction.\n",
    "                self.y_hat = self.sigmoid(np.dot(xb, self.weights) + self.bias)\n",
    "                #print(\"Probs:\", self.y_hat[:20])\n",
    "                # Getting the gradients of loss w.r.t parameters.\n",
    "                dw, db = self.gradients(xb, yb, self.y_hat, batch_weights)\n",
    "\n",
    "                # Updating the parameters.\n",
    "                self.weights -= self.lr*dw\n",
    "                self.bias -= self.lr*db\n",
    "\n",
    "            # Calculating/update loss log\n",
    "            self.loss =self.loss_log(y, self.sigmoid(np.dot(X, self.weights) + self.bias), sample_weights)\n",
    "\n",
    "           \n",
    "\n",
    "        # returning weights, bias and losses(List).\n",
    "\n",
    "        return self.weights, self.bias, self.loss\n",
    "    \n",
    "    def predict(self,X):\n",
    "        #input X must be iterable \n",
    "        z = np.dot(X, self.weights) + self.bias\n",
    "        y_hat = self.sigmoid(z)\n",
    "        return np.round(y_hat)\n",
    "    \n",
    "\n",
    "lg = LogisticRegression(batch_size=100, learning_rate=0.9, epochs=30)\n",
    "\n",
    "lg.train(X_train,y_train)\n",
    "lg.predict(X_test)\n"
   ]
  },
  {
   "cell_type": "code",
   "execution_count": null,
   "id": "a1019063",
   "metadata": {},
   "outputs": [],
   "source": []
  },
  {
   "cell_type": "code",
   "execution_count": null,
   "id": "db7acf1a",
   "metadata": {},
   "outputs": [
    {
     "name": "stdout",
     "output_type": "stream",
     "text": [
      "              precision    recall  f1-score   support\n",
      "\n",
      "           0       0.74      0.71      0.73      2126\n",
      "           1       0.56      0.59      0.58      1311\n",
      "\n",
      "    accuracy                           0.67      3437\n",
      "   macro avg       0.65      0.65      0.65      3437\n",
      "weighted avg       0.67      0.67      0.67      3437\n",
      "\n"
     ]
    }
   ],
   "source": [
    "from sklearn import metrics \n",
    "\n",
    "y_pred =lg.predict(X_test)\n",
    "print(metrics.classification_report(y_test, y_pred))\n",
    "\n",
    "\n",
    "estimators = [\n",
    "    (\"1\",LogisticRegression(batch_size=100, learning_rate=0.9, epochs=30,random_state=1)),\n",
    "    (\"2\",LogisticRegression(batch_size=100, learning_rate=0.9, epochs=30,random_state =20)),\n",
    "    (\"3\",LogisticRegression(batch_size=100, learning_rate=0.9, epochs=30,random_state=12)),\n",
    "    (\"4\",LogisticRegression(batch_size=100, learning_rate=0.9, epochs=30,random_state=9)),\n",
    "    (\"5\",LogisticRegression(batch_size=100, learning_rate=0.9, epochs=30,random_state=23)),\n",
    "    (\"6\",LogisticRegression(batch_size=100, learning_rate=0.9, epochs=30,random_state=112))\n",
    "    ]"
   ]
  }
 ],
 "metadata": {
  "kernelspec": {
   "display_name": "Python 3",
   "language": "python",
   "name": "python3"
  },
  "language_info": {
   "codemirror_mode": {
    "name": "ipython",
    "version": 3
   },
   "file_extension": ".py",
   "mimetype": "text/x-python",
   "name": "python",
   "nbconvert_exporter": "python",
   "pygments_lexer": "ipython3",
   "version": "3.10.6"
  }
 },
 "nbformat": 4,
 "nbformat_minor": 5
}
